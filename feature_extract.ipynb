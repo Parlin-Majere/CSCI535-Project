{
 "cells": [
  {
   "cell_type": "markdown",
   "metadata": {},
   "source": [
    "# Download and Unzip"
   ]
  },
  {
   "cell_type": "code",
   "execution_count": null,
   "metadata": {},
   "outputs": [],
   "source": [
    "!pip install requests"
   ]
  },
  {
   "cell_type": "code",
   "execution_count": null,
   "metadata": {},
   "outputs": [],
   "source": [
    "import requests\n",
    "\n",
    "def download_dropbox_file(dropbox_link, save_path):\n",
    "    # Ensure the link is a direct download link\n",
    "    direct_link = dropbox_link.replace(\"?dl=0\", \"?dl=1\")\n",
    "\n",
    "    response = requests.get(direct_link, stream=True)\n",
    "    \n",
    "    if response.status_code == 200:\n",
    "        with open(save_path, 'wb') as file:\n",
    "            for chunk in response.iter_content(1024):\n",
    "                file.write(chunk)\n",
    "        print(f\"Download complete: {save_path}\")\n",
    "    else:\n",
    "        print(f\"Failed to download file. Status code: {response.status_code}\")\n",
    "\n",
    "# Example usage\n",
    "UR_FUNNY_RAW = \"https://www.dropbox.com/s/lg7kjx0kul3ansq/urfunny2_videos.zip?dl=1\"\n",
    "save_location = \"ur-funny.zip\"\n",
    "\n",
    "download_dropbox_file(UR_FUNNY_RAW, save_location)"
   ]
  },
  {
   "cell_type": "code",
   "execution_count": null,
   "metadata": {},
   "outputs": [],
   "source": [
    "import zipfile\n",
    "import os\n",
    "\n",
    "def unzip_file(zip_path, extract_to):\n",
    "    with zipfile.ZipFile(zip_path, 'r') as zip_ref:\n",
    "        zip_ref.extractall(extract_to)\n",
    "    print(f\"Extracted to: {extract_to}\")\n",
    "\n",
    "# Example usage\n",
    "zip_file_path = \"downloaded_file.zip\"  # Path to the ZIP file\n",
    "extract_folder = \"dataset\"  # Folder to extract files\n",
    "\n",
    "# Ensure the extraction folder exists\n",
    "os.makedirs(extract_folder, exist_ok=True)\n",
    "\n",
    "unzip_file(save_location, extract_folder)"
   ]
  },
  {
   "cell_type": "markdown",
   "metadata": {},
   "source": [
    "# Actual Extraction"
   ]
  },
  {
   "cell_type": "code",
   "execution_count": null,
   "metadata": {},
   "outputs": [],
   "source": [
    "!pip install audio-extract\n",
    "!pip install librosa"
   ]
  },
  {
   "cell_type": "code",
   "execution_count": null,
   "metadata": {},
   "outputs": [],
   "source": [
    "# Convert videos to .wav files for wav2vec\n",
    "# the file path would be ./dataset/urfunny2_videos/\n",
    "from audio_extract import extract_audio\n",
    "\n",
    "extract_audio(input_path=\"./downloaded_file/urfunny2_videos/10.mp4\", output_path=\"./audio\",output_format='wav')\n",
    "\n",
    "#extract_audio(input_path=\"./video.mp4\",\n",
    "#              output_path=\"./audio.mp3\",\n",
    "#              start_time=\"00:30\",\n",
    "#              overwrite=True)\n"
   ]
  },
  {
   "cell_type": "code",
   "execution_count": null,
   "metadata": {},
   "outputs": [],
   "source": [
    "from transformers import Wav2Vec2Model,Wav2Vec2FeatureExtractor\n",
    "import librosa\n",
    "import torch\n",
    "\n",
    "input_audio, sample_rate = librosa.load(\"audio.wav\",  sr=16000)\n",
    "\n",
    "# can change to whatever variant of wav2vec2, have to check later\n",
    "model_name = \"facebook/wav2vec2-large-xlsr-53\"\n",
    "feature_extractor = Wav2Vec2FeatureExtractor.from_pretrained(model_name)\n",
    "model = Wav2Vec2Model.from_pretrained(model_name)\n",
    "\n",
    "i= feature_extractor(input_audio, return_tensors=\"pt\", sampling_rate=sample_rate)\n",
    "with torch.no_grad():\n",
    "  o= model(i.input_values)\n",
    "print(o.keys())\n",
    "print(o.last_hidden_state.shape)\n",
    "print(o.extract_features.shape)\n"
   ]
  }
 ],
 "metadata": {
  "kernelspec": {
   "display_name": "base",
   "language": "python",
   "name": "python3"
  },
  "language_info": {
   "codemirror_mode": {
    "name": "ipython",
    "version": 3
   },
   "file_extension": ".py",
   "mimetype": "text/x-python",
   "name": "python",
   "nbconvert_exporter": "python",
   "pygments_lexer": "ipython3",
   "version": "3.11.5"
  }
 },
 "nbformat": 4,
 "nbformat_minor": 2
}
